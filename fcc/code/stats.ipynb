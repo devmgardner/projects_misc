{
 "cells": [
  {
   "cell_type": "code",
   "execution_count": 1,
   "metadata": {},
   "outputs": [],
   "source": [
    "import os,sys,pandas as pd"
   ]
  },
  {
   "cell_type": "code",
   "execution_count": 4,
   "metadata": {},
   "outputs": [],
   "source": [
    "currentdir = os.path.dirname(os.path.realpath('C:\\\\Users\\\\Workstation2\\\\Desktop\\\\vsc\\\\projects_misc\\\\fcc\\\\code'))\n",
    "parentdir = os.path.dirname(currentdir)\n",
    "sys.path.append(parentdir)"
   ]
  },
  {
   "cell_type": "code",
   "execution_count": 5,
   "metadata": {},
   "outputs": [],
   "source": [
    "hw = pd.read_csv(os.path.join(currentdir,'datasets','Data8277.csv'))"
   ]
  },
  {
   "cell_type": "code",
   "execution_count": 6,
   "metadata": {},
   "outputs": [
    {
     "data": {
      "text/plain": [
       "(25000, 3)"
      ]
     },
     "execution_count": 6,
     "metadata": {},
     "output_type": "execute_result"
    }
   ],
   "source": [
    "hw.shape"
   ]
  },
  {
   "cell_type": "code",
   "execution_count": 7,
   "metadata": {},
   "outputs": [
    {
     "name": "stdout",
     "output_type": "stream",
     "text": [
      "<class 'pandas.core.frame.DataFrame'>\n",
      "RangeIndex: 25000 entries, 0 to 24999\n",
      "Data columns (total 3 columns):\n",
      " #   Column             Non-Null Count  Dtype  \n",
      "---  ------             --------------  -----  \n",
      " 0   Index              25000 non-null  int64  \n",
      " 1    \"Height(Inches)\"  25000 non-null  float64\n",
      " 2    \"Weight(Pounds)\"  25000 non-null  float64\n",
      "dtypes: float64(2), int64(1)\n",
      "memory usage: 586.1 KB\n"
     ]
    }
   ],
   "source": [
    "hw.info()"
   ]
  },
  {
   "cell_type": "code",
   "execution_count": 8,
   "metadata": {},
   "outputs": [
    {
     "data": {
      "text/html": [
       "<div>\n",
       "<style scoped>\n",
       "    .dataframe tbody tr th:only-of-type {\n",
       "        vertical-align: middle;\n",
       "    }\n",
       "\n",
       "    .dataframe tbody tr th {\n",
       "        vertical-align: top;\n",
       "    }\n",
       "\n",
       "    .dataframe thead th {\n",
       "        text-align: right;\n",
       "    }\n",
       "</style>\n",
       "<table border=\"1\" class=\"dataframe\">\n",
       "  <thead>\n",
       "    <tr style=\"text-align: right;\">\n",
       "      <th></th>\n",
       "      <th>Index</th>\n",
       "      <th>\"Height(Inches)\"</th>\n",
       "      <th>\"Weight(Pounds)\"</th>\n",
       "    </tr>\n",
       "  </thead>\n",
       "  <tbody>\n",
       "    <tr>\n",
       "      <th>count</th>\n",
       "      <td>25000.000000</td>\n",
       "      <td>25000.000000</td>\n",
       "      <td>25000.000000</td>\n",
       "    </tr>\n",
       "    <tr>\n",
       "      <th>mean</th>\n",
       "      <td>12500.500000</td>\n",
       "      <td>67.993114</td>\n",
       "      <td>127.079421</td>\n",
       "    </tr>\n",
       "    <tr>\n",
       "      <th>std</th>\n",
       "      <td>7217.022701</td>\n",
       "      <td>1.901679</td>\n",
       "      <td>11.660898</td>\n",
       "    </tr>\n",
       "    <tr>\n",
       "      <th>min</th>\n",
       "      <td>1.000000</td>\n",
       "      <td>60.278360</td>\n",
       "      <td>78.014760</td>\n",
       "    </tr>\n",
       "    <tr>\n",
       "      <th>25%</th>\n",
       "      <td>6250.750000</td>\n",
       "      <td>66.704397</td>\n",
       "      <td>119.308675</td>\n",
       "    </tr>\n",
       "    <tr>\n",
       "      <th>50%</th>\n",
       "      <td>12500.500000</td>\n",
       "      <td>67.995700</td>\n",
       "      <td>127.157750</td>\n",
       "    </tr>\n",
       "    <tr>\n",
       "      <th>75%</th>\n",
       "      <td>18750.250000</td>\n",
       "      <td>69.272958</td>\n",
       "      <td>134.892850</td>\n",
       "    </tr>\n",
       "    <tr>\n",
       "      <th>max</th>\n",
       "      <td>25000.000000</td>\n",
       "      <td>75.152800</td>\n",
       "      <td>170.924000</td>\n",
       "    </tr>\n",
       "  </tbody>\n",
       "</table>\n",
       "</div>"
      ],
      "text/plain": [
       "              Index   \"Height(Inches)\"   \"Weight(Pounds)\"\n",
       "count  25000.000000       25000.000000       25000.000000\n",
       "mean   12500.500000          67.993114         127.079421\n",
       "std     7217.022701           1.901679          11.660898\n",
       "min        1.000000          60.278360          78.014760\n",
       "25%     6250.750000          66.704397         119.308675\n",
       "50%    12500.500000          67.995700         127.157750\n",
       "75%    18750.250000          69.272958         134.892850\n",
       "max    25000.000000          75.152800         170.924000"
      ]
     },
     "execution_count": 8,
     "metadata": {},
     "output_type": "execute_result"
    }
   ],
   "source": [
    "hw.describe()"
   ]
  }
 ],
 "metadata": {
  "kernelspec": {
   "display_name": "Python 3.10.4 64-bit",
   "language": "python",
   "name": "python3"
  },
  "language_info": {
   "codemirror_mode": {
    "name": "ipython",
    "version": 3
   },
   "file_extension": ".py",
   "mimetype": "text/x-python",
   "name": "python",
   "nbconvert_exporter": "python",
   "pygments_lexer": "ipython3",
   "version": "3.10.4"
  },
  "orig_nbformat": 4,
  "vscode": {
   "interpreter": {
    "hash": "ff914b1fb8072dc43480e79a38ea1322593f3e84798fbab56b18e75bc9859160"
   }
  }
 },
 "nbformat": 4,
 "nbformat_minor": 2
}
