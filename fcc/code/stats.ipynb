{
 "cells": [
  {
   "cell_type": "code",
   "execution_count": 1,
   "metadata": {},
   "outputs": [],
   "source": [
    "import os,sys,pandas as pd"
   ]
  },
  {
   "cell_type": "code",
   "execution_count": 2,
   "metadata": {},
   "outputs": [],
   "source": [
    "currentdir = os.path.dirname(os.path.realpath('/home/ubuntu/Git/projects_misc/fcc/code'))\n",
    "parentdir = os.path.dirname(currentdir)\n",
    "sys.path.append(parentdir)"
   ]
  },
  {
   "cell_type": "code",
   "execution_count": 8,
   "metadata": {},
   "outputs": [],
   "source": [
    "hw = pd.read_csv(os.path.join(currentdir,'datasets','bitstampUSD_1-min_data_2012-01-01_to_2021-03-31.csv'))"
   ]
  },
  {
   "cell_type": "code",
   "execution_count": 9,
   "metadata": {},
   "outputs": [
    {
     "data": {
      "text/plain": [
       "(4857377, 8)"
      ]
     },
     "execution_count": 9,
     "metadata": {},
     "output_type": "execute_result"
    }
   ],
   "source": [
    "hw.shape"
   ]
  },
  {
   "cell_type": "code",
   "execution_count": 10,
   "metadata": {},
   "outputs": [
    {
     "name": "stdout",
     "output_type": "stream",
     "text": [
      "<class 'pandas.core.frame.DataFrame'>\n",
      "RangeIndex: 4857377 entries, 0 to 4857376\n",
      "Data columns (total 8 columns):\n",
      " #   Column             Dtype  \n",
      "---  ------             -----  \n",
      " 0   Timestamp          int64  \n",
      " 1   Open               float64\n",
      " 2   High               float64\n",
      " 3   Low                float64\n",
      " 4   Close              float64\n",
      " 5   Volume_(BTC)       float64\n",
      " 6   Volume_(Currency)  float64\n",
      " 7   Weighted_Price     float64\n",
      "dtypes: float64(7), int64(1)\n",
      "memory usage: 296.5 MB\n"
     ]
    }
   ],
   "source": [
    "hw.info()"
   ]
  },
  {
   "cell_type": "code",
   "execution_count": 12,
   "metadata": {},
   "outputs": [
    {
     "data": {
      "text/html": [
       "<div>\n",
       "<style scoped>\n",
       "    .dataframe tbody tr th:only-of-type {\n",
       "        vertical-align: middle;\n",
       "    }\n",
       "\n",
       "    .dataframe tbody tr th {\n",
       "        vertical-align: top;\n",
       "    }\n",
       "\n",
       "    .dataframe thead th {\n",
       "        text-align: right;\n",
       "    }\n",
       "</style>\n",
       "<table border=\"1\" class=\"dataframe\">\n",
       "  <thead>\n",
       "    <tr style=\"text-align: right;\">\n",
       "      <th></th>\n",
       "      <th>Timestamp</th>\n",
       "      <th>Open</th>\n",
       "      <th>High</th>\n",
       "      <th>Low</th>\n",
       "      <th>Close</th>\n",
       "      <th>Volume_(BTC)</th>\n",
       "      <th>Volume_(Currency)</th>\n",
       "      <th>Weighted_Price</th>\n",
       "    </tr>\n",
       "  </thead>\n",
       "  <tbody>\n",
       "    <tr>\n",
       "      <th>count</th>\n",
       "      <td>4857377.00000</td>\n",
       "      <td>3613769.00000</td>\n",
       "      <td>3613769.00000</td>\n",
       "      <td>3613769.00000</td>\n",
       "      <td>3613769.00000</td>\n",
       "      <td>3613769.00000</td>\n",
       "      <td>3613769.00000</td>\n",
       "      <td>3613769.00000</td>\n",
       "    </tr>\n",
       "    <tr>\n",
       "      <th>mean</th>\n",
       "      <td>1471300766.50429</td>\n",
       "      <td>6009.02368</td>\n",
       "      <td>6013.35708</td>\n",
       "      <td>6004.48800</td>\n",
       "      <td>6009.01355</td>\n",
       "      <td>9.32325</td>\n",
       "      <td>41762.84240</td>\n",
       "      <td>6008.93480</td>\n",
       "    </tr>\n",
       "    <tr>\n",
       "      <th>std</th>\n",
       "      <td>84280194.37553</td>\n",
       "      <td>8996.24735</td>\n",
       "      <td>9003.52101</td>\n",
       "      <td>8988.77832</td>\n",
       "      <td>8996.35969</td>\n",
       "      <td>30.54989</td>\n",
       "      <td>151824.78390</td>\n",
       "      <td>8995.99164</td>\n",
       "    </tr>\n",
       "    <tr>\n",
       "      <th>min</th>\n",
       "      <td>1325317920.00000</td>\n",
       "      <td>3.80000</td>\n",
       "      <td>3.80000</td>\n",
       "      <td>1.50000</td>\n",
       "      <td>1.50000</td>\n",
       "      <td>0.00000</td>\n",
       "      <td>0.00000</td>\n",
       "      <td>3.80000</td>\n",
       "    </tr>\n",
       "    <tr>\n",
       "      <th>25%</th>\n",
       "      <td>1398178560.00000</td>\n",
       "      <td>443.86000</td>\n",
       "      <td>444.00000</td>\n",
       "      <td>443.52000</td>\n",
       "      <td>443.86000</td>\n",
       "      <td>0.40978</td>\n",
       "      <td>452.14220</td>\n",
       "      <td>443.83062</td>\n",
       "    </tr>\n",
       "    <tr>\n",
       "      <th>50%</th>\n",
       "      <td>1471427520.00000</td>\n",
       "      <td>3596.97000</td>\n",
       "      <td>3598.19000</td>\n",
       "      <td>3595.62000</td>\n",
       "      <td>3597.00000</td>\n",
       "      <td>1.97981</td>\n",
       "      <td>3810.12414</td>\n",
       "      <td>3596.80414</td>\n",
       "    </tr>\n",
       "    <tr>\n",
       "      <th>75%</th>\n",
       "      <td>1544288160.00000</td>\n",
       "      <td>8627.27000</td>\n",
       "      <td>8632.98000</td>\n",
       "      <td>8621.09000</td>\n",
       "      <td>8627.16000</td>\n",
       "      <td>7.27822</td>\n",
       "      <td>25698.21118</td>\n",
       "      <td>8627.63661</td>\n",
       "    </tr>\n",
       "    <tr>\n",
       "      <th>max</th>\n",
       "      <td>1617148800.00000</td>\n",
       "      <td>61763.56000</td>\n",
       "      <td>61781.83000</td>\n",
       "      <td>61673.55000</td>\n",
       "      <td>61781.80000</td>\n",
       "      <td>5853.85217</td>\n",
       "      <td>13900672.40700</td>\n",
       "      <td>61716.20534</td>\n",
       "    </tr>\n",
       "  </tbody>\n",
       "</table>\n",
       "</div>"
      ],
      "text/plain": [
       "              Timestamp           Open           High            Low  \\\n",
       "count     4857377.00000  3613769.00000  3613769.00000  3613769.00000   \n",
       "mean   1471300766.50429     6009.02368     6013.35708     6004.48800   \n",
       "std      84280194.37553     8996.24735     9003.52101     8988.77832   \n",
       "min    1325317920.00000        3.80000        3.80000        1.50000   \n",
       "25%    1398178560.00000      443.86000      444.00000      443.52000   \n",
       "50%    1471427520.00000     3596.97000     3598.19000     3595.62000   \n",
       "75%    1544288160.00000     8627.27000     8632.98000     8621.09000   \n",
       "max    1617148800.00000    61763.56000    61781.83000    61673.55000   \n",
       "\n",
       "               Close   Volume_(BTC) Volume_(Currency) Weighted_Price  \n",
       "count  3613769.00000  3613769.00000     3613769.00000  3613769.00000  \n",
       "mean      6009.01355        9.32325       41762.84240     6008.93480  \n",
       "std       8996.35969       30.54989      151824.78390     8995.99164  \n",
       "min          1.50000        0.00000           0.00000        3.80000  \n",
       "25%        443.86000        0.40978         452.14220      443.83062  \n",
       "50%       3597.00000        1.97981        3810.12414     3596.80414  \n",
       "75%       8627.16000        7.27822       25698.21118     8627.63661  \n",
       "max      61781.80000     5853.85217    13900672.40700    61716.20534  "
      ]
     },
     "execution_count": 12,
     "metadata": {},
     "output_type": "execute_result"
    }
   ],
   "source": [
    "hw.describe().apply(lambda s: s.apply('{0:.5f}'.format))"
   ]
  }
 ],
 "metadata": {
  "kernelspec": {
   "display_name": "Python 3.10.4 64-bit",
   "language": "python",
   "name": "python3"
  },
  "language_info": {
   "codemirror_mode": {
    "name": "ipython",
    "version": 3
   },
   "file_extension": ".py",
   "mimetype": "text/x-python",
   "name": "python",
   "nbconvert_exporter": "python",
   "pygments_lexer": "ipython3",
   "version": "3.10.4"
  },
  "orig_nbformat": 4,
  "vscode": {
   "interpreter": {
    "hash": "e7370f93d1d0cde622a1f8e1c04877d8463912d04d973331ad4851f04de6915a"
   }
  }
 },
 "nbformat": 4,
 "nbformat_minor": 2
}
