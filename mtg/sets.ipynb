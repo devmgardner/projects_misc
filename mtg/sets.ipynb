{
 "cells": [
  {
   "cell_type": "code",
   "execution_count": 1,
   "metadata": {},
   "outputs": [],
   "source": [
    "import os,sys,requests as rq,json\n",
    "from openpyxl import Workbook"
   ]
  },
  {
   "cell_type": "code",
   "execution_count": 2,
   "metadata": {},
   "outputs": [],
   "source": [
    "currentdir = '/Users/devingardner/Desktop/coding/projects_misc/mtg/'\n",
    "base_url = 'https://api.scryfall.com/sets/'"
   ]
  },
  {
   "cell_type": "code",
   "execution_count": 3,
   "metadata": {},
   "outputs": [],
   "source": [
    "data = rq.get(base_url).json()['data']"
   ]
  },
  {
   "cell_type": "code",
   "execution_count": 4,
   "metadata": {},
   "outputs": [],
   "source": [
    "set_count = 0\n",
    "card_count = 0\n",
    "page_count = 0\n",
    "for set in data:\n",
    "    tp = set['set_type']\n",
    "    if tp == 'core' or tp == 'expansion' or tp == 'masters' or tp == 'duel_deck' or tp == 'commander':\n",
    "        set_count += 1\n",
    "        card_count += set['card_count']\n",
    "        page_count += int(set['card_count'] / 18)+1"
   ]
  },
  {
   "cell_type": "code",
   "execution_count": 5,
   "metadata": {},
   "outputs": [
    {
     "name": "stdout",
     "output_type": "stream",
     "text": [
      "set count is 194\n",
      "card count is 47204\n",
      "page count is 2717\n"
     ]
    }
   ],
   "source": [
    "print(f'set count is {set_count}')\n",
    "print(f'card count is {card_count}')\n",
    "print(f'page count is {page_count}')"
   ]
  },
  {
   "cell_type": "code",
   "execution_count": 6,
   "metadata": {},
   "outputs": [],
   "source": [
    "wb = Workbook()\n",
    "ws = wb.active\n",
    "ws['A1'] = 'Set Code'\n",
    "ws['B1'] = 'Set Name'\n",
    "ws['C1'] = 'Set Type'\n",
    "ws['D1'] = 'Set Total Cards'"
   ]
  },
  {
   "cell_type": "code",
   "execution_count": 7,
   "metadata": {},
   "outputs": [],
   "source": [
    "for ind,val in enumerate(data):\n",
    "    ws[f'A{ind+2}'] = val['code'].upper()\n",
    "    ws[f'B{ind+2}'] = val['name']\n",
    "    ws[f'C{ind+2}'] = val['set_type']\n",
    "    ws[f'D{ind+2}'] = val['card_count']\n",
    "wb.save(os.path.join(currentdir,'set_list.xlsx'))"
   ]
  },
  {
   "cell_type": "code",
   "execution_count": 8,
   "metadata": {},
   "outputs": [],
   "source": [
    "wb2 = Workbook()\n",
    "ws2 = wb2.active\n",
    "ws2['A1'] = 'Set Code'\n",
    "ws2['B1'] = 'Set Name'\n",
    "ws2['C1'] = 'Set Type'\n",
    "ws2['D1'] = 'Card Count'\n",
    "ws2['E1'] = 'Page Count'"
   ]
  },
  {
   "cell_type": "code",
   "execution_count": 9,
   "metadata": {},
   "outputs": [],
   "source": [
    "for ind,val in enumerate(data):\n",
    "    tp = val['set_type']\n",
    "    if tp == 'core' or tp == 'expansion' or tp == 'masters' or tp == 'duel_deck' or tp == 'commander':\n",
    "        ws2[f'A{ind+2}'] = val['code'].upper()\n",
    "        ws2[f'B{ind+2}'] = val['name']\n",
    "        ws2[f'C{ind+2}'] = val['set_type']\n",
    "        ws2[f'D{ind+2}'] = val['card_count']\n",
    "        ws2[f'E{ind+2}'] = int(val['card_count']/18)+1\n",
    "wb2.save(os.path.join(currentdir,'page_counts.xlsx'))"
   ]
  }
 ],
 "metadata": {
  "kernelspec": {
   "display_name": "Python 3.10.4 64-bit",
   "language": "python",
   "name": "python3"
  },
  "language_info": {
   "codemirror_mode": {
    "name": "ipython",
    "version": 3
   },
   "file_extension": ".py",
   "mimetype": "text/x-python",
   "name": "python",
   "nbconvert_exporter": "python",
   "pygments_lexer": "ipython3",
   "version": "3.10.4"
  },
  "orig_nbformat": 4,
  "vscode": {
   "interpreter": {
    "hash": "aee8b7b246df8f9039afb4144a1f6fd8d2ca17a180786b69acc140d282b71a49"
   }
  }
 },
 "nbformat": 4,
 "nbformat_minor": 2
}
